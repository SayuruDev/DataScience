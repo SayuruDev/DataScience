{
  "nbformat": 4,
  "nbformat_minor": 0,
  "metadata": {
    "colab": {
      "provenance": []
    },
    "kernelspec": {
      "name": "python3",
      "display_name": "Python 3"
    },
    "language_info": {
      "name": "python"
    }
  },
  "cells": [
    {
      "cell_type": "code",
      "source": [
        "import sqlite3\n",
        "import sys\n",
        "import csv"
      ],
      "metadata": {
        "id": "o99AbG4lZ5NX"
      },
      "execution_count": null,
      "outputs": []
    },
    {
      "cell_type": "code",
      "source": [
        "db_conn = sqlite3.connect('test.db')\n",
        "print(\"Database Created\")"
      ],
      "metadata": {
        "colab": {
          "base_uri": "https://localhost:8080/"
        },
        "id": "BuaZV2V9aIiQ",
        "outputId": "16f46366-2e4b-4a7d-aaef-9ea419a866ca"
      },
      "execution_count": null,
      "outputs": [
        {
          "output_type": "stream",
          "name": "stdout",
          "text": [
            "Database Created\n"
          ]
        }
      ]
    },
    {
      "cell_type": "code",
      "source": [
        "the_cursor = db_conn.cursor()"
      ],
      "metadata": {
        "id": "Vw8pOGUhaU6q"
      },
      "execution_count": null,
      "outputs": []
    },
    {
      "cell_type": "code",
      "source": [
        "import sqlite3\n",
        "\n",
        "# Create & connect to a new SQLite database in Colab\n",
        "conn = sqlite3.connect(\"studentdb.db\")\n",
        "cursor = conn.cursor()\n",
        "\n",
        "print(\"Database created successfully!\")"
      ],
      "metadata": {
        "colab": {
          "base_uri": "https://localhost:8080/"
        },
        "id": "vWYhrZ-sb_pj",
        "outputId": "ac549f12-f115-408f-c338-664ee3d5f4b1"
      },
      "execution_count": null,
      "outputs": [
        {
          "output_type": "stream",
          "name": "stdout",
          "text": [
            "Database created successfully!\n"
          ]
        }
      ]
    },
    {
      "cell_type": "code",
      "source": [
        "# Create 'sex' table\n",
        "cursor.execute(\"\"\"\n",
        "CREATE TABLE IF NOT EXISTS sex (\n",
        "    id TEXT PRIMARY KEY NOT NULL,\n",
        "    sex_type INTEGER\n",
        ")\n",
        "\"\"\")\n",
        "\n",
        "# Insert values into 'sex' table\n",
        "cursor.execute(\"INSERT INTO sex(id, sex_type) VALUES ('M', 1)\")\n",
        "cursor.execute(\"INSERT INTO sex(id, sex_type) VALUES ('F', 2)\")\n",
        "\n",
        "conn.commit()\n",
        "print(\"Table 'sex' created and values inserted!\")"
      ],
      "metadata": {
        "colab": {
          "base_uri": "https://localhost:8080/"
        },
        "id": "Vt8_BIAHcKXW",
        "outputId": "05b67962-4fd8-49db-aa38-980b8c9a1330"
      },
      "execution_count": null,
      "outputs": [
        {
          "output_type": "stream",
          "name": "stdout",
          "text": [
            "Table 'sex' created and values inserted!\n"
          ]
        }
      ]
    },
    {
      "cell_type": "code",
      "source": [
        "cursor.execute(\"\"\"\n",
        "CREATE TABLE IF NOT EXISTS student (\n",
        "    id INTEGER PRIMARY KEY AUTOINCREMENT,\n",
        "    f_name VARCHAR(23) NOT NULL,\n",
        "    l_name VARCHAR(23) NOT NULL,\n",
        "    sex CHARACTER(1) NOT NULL,\n",
        "    FOREIGN KEY (sex) REFERENCES sex(id)\n",
        ")\n",
        "\"\"\")\n",
        "\n",
        "conn.commit()\n",
        "print(\"Table 'student' created successfully!\")"
      ],
      "metadata": {
        "colab": {
          "base_uri": "https://localhost:8080/"
        },
        "id": "zYTIvXdgcTlj",
        "outputId": "f43d2401-a5aa-4ed7-863a-72e3679f1ab0"
      },
      "execution_count": null,
      "outputs": [
        {
          "output_type": "stream",
          "name": "stdout",
          "text": [
            "Table 'student' created successfully!\n"
          ]
        }
      ]
    },
    {
      "cell_type": "code",
      "source": [
        "cursor.execute(\"\"\"\n",
        "CREATE TABLE IF NOT EXISTS test_type (\n",
        "    id INTEGER PRIMARY KEY NOT NULL,\n",
        "    type TEXT NOT NULL\n",
        ")\n",
        "\"\"\")\n",
        "\n",
        "cursor.execute(\"\"\"\n",
        "CREATE TABLE IF NOT EXISTS test (\n",
        "    id INTEGER PRIMARY KEY AUTOINCREMENT,\n",
        "    date DATE NOT NULL,\n",
        "    test_type INT NOT NULL,\n",
        "    FOREIGN KEY (test_type) REFERENCES test_type(id)\n",
        ")\n",
        "\"\"\")\n",
        "\n",
        "cursor.execute(\"\"\"\n",
        "CREATE TABLE IF NOT EXISTS test_score (\n",
        "    student_id INTEGER NOT NULL,\n",
        "    test_id INTEGER NOT NULL,\n",
        "    score INTEGER NOT NULL,\n",
        "    PRIMARY KEY (test_id, student_id),\n",
        "    FOREIGN KEY (test_id) REFERENCES test(id),\n",
        "    FOREIGN KEY (student_id) REFERENCES student(id)\n",
        ")\n",
        "\"\"\")\n",
        "\n",
        "conn.commit()\n",
        "print(\"Tables 'test', 'test_type', and 'test_score' created successfully!\")"
      ],
      "metadata": {
        "colab": {
          "base_uri": "https://localhost:8080/"
        },
        "id": "vGC4Jh_KcgH2",
        "outputId": "ae0af81b-2cfe-4d6e-c348-3aab6722c197"
      },
      "execution_count": null,
      "outputs": [
        {
          "output_type": "stream",
          "name": "stdout",
          "text": [
            "Tables 'test', 'test_type', and 'test_score' created successfully!\n"
          ]
        }
      ]
    },
    {
      "cell_type": "code",
      "source": [
        "cursor.execute(\"SELECT * FROM sex\")\n",
        "rows = cursor.fetchall()\n",
        "\n",
        "for row in rows:\n",
        "    print(row)  # Prints each row"
      ],
      "metadata": {
        "colab": {
          "base_uri": "https://localhost:8080/"
        },
        "id": "yVZ-QULocnks",
        "outputId": "08752459-07ef-4349-ca52-fe13ec5f10e0"
      },
      "execution_count": null,
      "outputs": [
        {
          "output_type": "stream",
          "name": "stdout",
          "text": [
            "('M', 1)\n",
            "('F', 2)\n"
          ]
        }
      ]
    },
    {
      "cell_type": "code",
      "source": [
        "cursor.execute(\"PRAGMA table_info(sex)\")\n",
        "print(cursor.fetchall())  # Lists all columns"
      ],
      "metadata": {
        "colab": {
          "base_uri": "https://localhost:8080/"
        },
        "id": "TeEbm96ecrW5",
        "outputId": "dd34ce9b-0ad3-41b0-b7c7-7083f0d773c8"
      },
      "execution_count": null,
      "outputs": [
        {
          "output_type": "stream",
          "name": "stdout",
          "text": [
            "[(0, 'id', 'TEXT', 1, None, 1), (1, 'sex_type', 'INTEGER', 0, None, 0)]\n"
          ]
        }
      ]
    },
    {
      "cell_type": "code",
      "source": [
        "conn.close()\n",
        "print(\"SQLite session closed!\")"
      ],
      "metadata": {
        "id": "bL72_ZOGc4aw",
        "outputId": "22c8c747-cbdb-4c46-d90a-fc27aa0b5227",
        "colab": {
          "base_uri": "https://localhost:8080/"
        }
      },
      "execution_count": null,
      "outputs": [
        {
          "output_type": "stream",
          "name": "stdout",
          "text": [
            "SQLite session closed!\n"
          ]
        }
      ]
    }
  ]
}